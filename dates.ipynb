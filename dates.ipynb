{
 "cells": [
  {
   "cell_type": "code",
   "execution_count": null,
   "metadata": {},
   "outputs": [],
   "source": [
    "import pandas as pd\n",
    "from datetime import date, timedelta\n",
    "\n",
    "today = date.today()\n",
    "days_until_last_thursday = (today.weekday() - 3) % 7\n",
    "last_thursday = today - timedelta(days=days_until_last_thursday)\n",
    "last_thursday"
   ]
  },
  {
   "cell_type": "code",
   "execution_count": null,
   "metadata": {},
   "outputs": [],
   "source": [
    "days_until_next_wednesday = (2 - today.weekday()) % 7\n",
    "next_wednesday = today + timedelta(days=days_until_next_wednesday)\n",
    "next_wednesday"
   ]
  },
  {
   "cell_type": "code",
   "execution_count": null,
   "metadata": {},
   "outputs": [],
   "source": [
    "date_range = pd.date_range(last_thursday, next_wednesday, freq='D')\n",
    "DATES_DF = pd.DataFrame(date_range, columns=[\"Fecha\"])\n",
    "DATES_DF"
   ]
  },
  {
   "cell_type": "code",
   "execution_count": null,
   "metadata": {},
   "outputs": [],
   "source": [
    "urlCatTRAB = \"https://docs.google.com/spreadsheets/d/1f1l2OFLYFqWNcy084IiATyquMH7v2nnRx3lKfE8QAH0/gviz/tq?tqx=out:csv&sheet=catTRAB\"\n",
    "CATTRAB = pd.read_csv(urlCatTRAB)\n",
    "\n",
    "CATTRAB = CATTRAB.loc[CATTRAB[\"idNivel\"] == 5]\n",
    "SORTED_TRAB = CATTRAB.sort_values(by=[\"idNivel\"], ascending=False).loc[CATTRAB['idActivo'] == True]\n",
    "\n",
    "SORTED_TRAB[[\"idTrabajador\", \"idNivel\", \"Nombres\", \"APaterno\"]]"
   ]
  },
  {
   "cell_type": "code",
   "execution_count": null,
   "metadata": {},
   "outputs": [],
   "source": [
    "cross_join = SORTED_TRAB.join(DATES_DF, how=\"cross\").sort_values(by=[\"Fecha\", \"idTrabajador\"])\n",
    "pd.set_option('display.max_rows', None)\n",
    "cross_join[[\"Fecha\", \"idTrabajador\", \"Nombres\", \"APaterno\"]]"
   ]
  }
 ],
 "metadata": {
  "kernelspec": {
   "display_name": ".venv",
   "language": "python",
   "name": "python3"
  },
  "language_info": {
   "codemirror_mode": {
    "name": "ipython",
    "version": 3
   },
   "file_extension": ".py",
   "mimetype": "text/x-python",
   "name": "python",
   "nbconvert_exporter": "python",
   "pygments_lexer": "ipython3",
   "version": "3.11.3"
  },
  "orig_nbformat": 4
 },
 "nbformat": 4,
 "nbformat_minor": 2
}
