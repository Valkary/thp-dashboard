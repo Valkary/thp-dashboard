{
 "cells": [
  {
   "cell_type": "code",
   "execution_count": 6,
   "metadata": {},
   "outputs": [],
   "source": [
    "import pandas as pd\n",
    "from datetime import (date, timedelta)\n",
    "\n",
    "urlMEZCLADO = \"https://docs.google.com/spreadsheets/d/1fzy0h-g0-LbRxNcURZJqyGuIZOoJHLFkQDZ5vpAb4zc/gviz/tq?tqx=out:csv&sheet=MEZCLADO\"\n",
    "urlLAMINADO = \"https://docs.google.com/spreadsheets/d/1fzy0h-g0-LbRxNcURZJqyGuIZOoJHLFkQDZ5vpAb4zc/gviz/tq?tqx=out:csv&sheet=LAMINADO\"\n",
    "urlFORMULADO = \"https://docs.google.com/spreadsheets/d/1fzy0h-g0-LbRxNcURZJqyGuIZOoJHLFkQDZ5vpAb4zc/gviz/tq?tqx=out:csv&sheet=FORMULADO\"\n",
    "urlVULCANIZADO = \"https://docs.google.com/spreadsheets/d/1fzy0h-g0-LbRxNcURZJqyGuIZOoJHLFkQDZ5vpAb4zc/gviz/tq?tqx=out:csv&sheet=VULCANIZADO\"\n",
    "urlCARDADO = \"https://docs.google.com/spreadsheets/d/1fzy0h-g0-LbRxNcURZJqyGuIZOoJHLFkQDZ5vpAb4zc/gviz/tq?tqx=out:csv&sheet=CARDADO\"\n",
    "\n",
    "MEZCLADO = pd.read_csv(urlMEZCLADO)\n",
    "LAMINADO = pd.read_csv(urlLAMINADO)\n",
    "FORMULADO = pd.read_csv(urlFORMULADO)\n",
    "VULCANIZADO = pd.read_csv(urlVULCANIZADO)\n",
    "CARDADO = pd.read_csv(urlCARDADO)\n",
    "\n",
    "yesterday = (date.today() - timedelta(days=1)).strftime(\"%Y/%m/%d\")\n",
    "\n",
    "FORMULADO[\"Fecha\"] = pd.to_datetime(FORMULADO[\"Fecha\"], dayfirst=True)\n",
    "MEZCLADO[\"Fecha\"] = pd.to_datetime(MEZCLADO[\"Fecha\"], dayfirst=True)\n",
    "LAMINADO[\"Fecha\"] = pd.to_datetime(LAMINADO[\"Fecha\"], dayfirst=True)\n",
    "VULCANIZADO[\"Fecha\"] = pd.to_datetime(VULCANIZADO[\"Fecha\"], dayfirst=True)\n",
    "CARDADO[\"Fecha\"] = pd.to_datetime(CARDADO[\"Fecha\"], dayfirst=True)"
   ]
  },
  {
   "cell_type": "code",
   "execution_count": 7,
   "metadata": {},
   "outputs": [],
   "source": [
    "FILTERED_FORMULADO = FORMULADO.loc[FORMULADO['Fecha'] >= yesterday]\n",
    "FILTERED_MEZCLADO = MEZCLADO.loc[MEZCLADO['Fecha'] >= yesterday]\n",
    "FILTERED_LAMINADO = LAMINADO.loc[LAMINADO['Fecha'] >= yesterday]\n",
    "FILTERED_VULCANIZADO = VULCANIZADO.loc[VULCANIZADO['Fecha'] >= yesterday]\n",
    "FILTERED_CARDADO = CARDADO.loc[CARDADO['Fecha'] >= yesterday]"
   ]
  },
  {
   "cell_type": "code",
   "execution_count": 8,
   "metadata": {},
   "outputs": [
    {
     "data": {
      "text/plain": [
       "{'formulado': False,\n",
       " 'mezclado': False,\n",
       " 'laminado': False,\n",
       " 'vulcanizado': False,\n",
       " 'cardado': True}"
      ]
     },
     "execution_count": 8,
     "metadata": {},
     "output_type": "execute_result"
    }
   ],
   "source": [
    "station_dict = {\n",
    "    \"formulado\": FILTERED_FORMULADO.shape[0] > 0,\n",
    "    \"mezclado\": FILTERED_MEZCLADO.shape[0] > 0,\n",
    "    \"laminado\": FILTERED_LAMINADO.shape[0] > 0,\n",
    "    \"vulcanizado\": FILTERED_VULCANIZADO.shape[0] > 0,\n",
    "    \"cardado\": FILTERED_CARDADO.shape[0] > 0\n",
    "}\n",
    "\n",
    "station_dict\n"
   ]
  }
 ],
 "metadata": {
  "kernelspec": {
   "display_name": ".venv",
   "language": "python",
   "name": "python3"
  },
  "language_info": {
   "codemirror_mode": {
    "name": "ipython",
    "version": 3
   },
   "file_extension": ".py",
   "mimetype": "text/x-python",
   "name": "python",
   "nbconvert_exporter": "python",
   "pygments_lexer": "ipython3",
   "version": "3.11.3"
  },
  "orig_nbformat": 4
 },
 "nbformat": 4,
 "nbformat_minor": 2
}
