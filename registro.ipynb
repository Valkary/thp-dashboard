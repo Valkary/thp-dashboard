{
 "cells": [
  {
   "cell_type": "code",
   "execution_count": 51,
   "metadata": {},
   "outputs": [],
   "source": [
    "import pandas as pd\n",
    "from datetime import date, timedelta\n",
    "\n",
    "from app import get_last_thursday\n",
    "\n",
    "urlCatTRAB = \"https://docs.google.com/spreadsheets/d/1f1l2OFLYFqWNcy084IiATyquMH7v2nnRx3lKfE8QAH0/gviz/tq?tqx=out:csv&sheet=catTRAB\"\n",
    "urlMEZCLADO = \"https://docs.google.com/spreadsheets/d/1fzy0h-g0-LbRxNcURZJqyGuIZOoJHLFkQDZ5vpAb4zc/gviz/tq?tqx=out:csv&sheet=MEZCLADO\"\n",
    "urlLAMINADO = \"https://docs.google.com/spreadsheets/d/1fzy0h-g0-LbRxNcURZJqyGuIZOoJHLFkQDZ5vpAb4zc/gviz/tq?tqx=out:csv&sheet=LAMINADO\"\n",
    "urlFORMULADO = \"https://docs.google.com/spreadsheets/d/1fzy0h-g0-LbRxNcURZJqyGuIZOoJHLFkQDZ5vpAb4zc/gviz/tq?tqx=out:csv&sheet=FORMULADO\"\n",
    "urlVULCANIZADO = \"https://docs.google.com/spreadsheets/d/1fzy0h-g0-LbRxNcURZJqyGuIZOoJHLFkQDZ5vpAb4zc/gviz/tq?tqx=out:csv&sheet=VULCANIZADO\"\n",
    "urlCARDADO = \"https://docs.google.com/spreadsheets/d/1fzy0h-g0-LbRxNcURZJqyGuIZOoJHLFkQDZ5vpAb4zc/gviz/tq?tqx=out:csv&sheet=CARDADO\"\n",
    "\n",
    "CATTRAB = pd.read_csv(urlCatTRAB)\n",
    "MEZCLADO = pd.read_csv(urlMEZCLADO)\n",
    "LAMINADO = pd.read_csv(urlLAMINADO)\n",
    "FORMULADO = pd.read_csv(urlFORMULADO)\n",
    "VULCANIZADO = pd.read_csv(urlVULCANIZADO)\n",
    "CARDADO = pd.read_csv(urlCARDADO)\n",
    "\n",
    "last_thursday = get_last_thursday()\n",
    "today = date.today()\n",
    "\n",
    "today = today.strftime(\"%Y/%m/%d\")\n",
    "last_thursday = last_thursday.strftime(\"%Y/%m/%d\")\n",
    "\n",
    "MEZCLADO[\"Fecha\"] = pd.to_datetime(MEZCLADO[\"Fecha\"], dayfirst=True)\n",
    "LAMINADO[\"Fecha\"] = pd.to_datetime(LAMINADO[\"Fecha\"], dayfirst=True)\n",
    "FORMULADO[\"Fecha\"] = pd.to_datetime(FORMULADO[\"Fecha\"], dayfirst=True)\n",
    "VULCANIZADO[\"Fecha\"] = pd.to_datetime(VULCANIZADO[\"Fecha\"], dayfirst=True)\n",
    "CARDADO[\"Fecha\"] = pd.to_datetime(CARDADO[\"Fecha\"], dayfirst=True)\n",
    "LAMINADO[\"IdTrabajador02\"] = LAMINADO[\"IdTrabajador02\"].astype(int)\n",
    "FORMULADO[\"idTrabajador02\"] = pd.array(FORMULADO[\"idTrabajador02\"])"
   ]
  },
  {
   "cell_type": "code",
   "execution_count": 52,
   "metadata": {},
   "outputs": [
    {
     "data": {
      "text/plain": [
       "{}"
      ]
     },
     "execution_count": 52,
     "metadata": {},
     "output_type": "execute_result"
    }
   ],
   "source": [
    "FILTERED_FORMULADO = FORMULADO[FORMULADO[\"Fecha\"].isin(\n",
    "    pd.date_range(last_thursday, today))]\n",
    "MERGED_FORMULADO = FILTERED_FORMULADO.merge(\n",
    "    CATTRAB, on=[\"idTrabajador\"], how=\"right\")\n",
    "\n",
    "# Create a dictionary to store the indices for each 'idTrabajador02'\n",
    "formulado_indices = {}\n",
    "\n",
    "# Iterate over the rows of 'MERGED_FORMULADO' and populate the indices_dict\n",
    "for index, row in MERGED_FORMULADO.iterrows():\n",
    "    if pd.notna(row['Fecha']):\n",
    "        id_trabajador_01 = row[\"idTrabajador\"]\n",
    "        id_trabajador_02 = row['idTrabajador02']\n",
    "        fecha = row['Fecha']\n",
    "\n",
    "        formulado_indices[int(id_trabajador_01)] = fecha\n",
    "\n",
    "        # Skip if 'idTrabajador02' is NaN\n",
    "        if pd.isna(id_trabajador_02):\n",
    "            continue\n",
    "\n",
    "        if id_trabajador_01 in formulado_indices:\n",
    "            formulado_indices[int(id_trabajador_01)].append(fecha)\n",
    "        else:\n",
    "            formulado_indices[int(id_trabajador_01)] = [fecha]\n",
    "\n",
    "        # Add the index to the list of indices for 'idTrabajador02'\n",
    "        for id in id_trabajador_02.split(','):\n",
    "            formulado_indices[int(id)] = fecha\n",
    "\n",
    "            if pd.notna(id_trabajador_02) and id_trabajador_02 in formulado_indices:\n",
    "                formulado_indices[int(id_trabajador_02)].append(fecha)\n",
    "            elif pd.notna(id_trabajador_02):\n",
    "                formulado_indices[int(id_trabajador_02)] = [fecha]"
   ]
  },
  {
   "cell_type": "code",
   "execution_count": 53,
   "metadata": {},
   "outputs": [
    {
     "data": {
      "text/plain": [
       "{}"
      ]
     },
     "execution_count": 53,
     "metadata": {},
     "output_type": "execute_result"
    }
   ],
   "source": [
    "FILTERED_MEZCLADO = MEZCLADO[MEZCLADO[\"Fecha\"].isin(\n",
    "    pd.date_range(last_thursday, today))]\n",
    "\n",
    "MERGED_MEZCLADO = FILTERED_MEZCLADO.merge(\n",
    "    CATTRAB, on=[\"idTrabajador\"], how=\"right\")\n",
    "\n",
    "mezclado_indices = {}\n",
    "\n",
    "for index, row in MERGED_MEZCLADO.iterrows():\n",
    "    if pd.notna(row['Fecha']):\n",
    "        id_trabajador_01 = row['idTrabajador']\n",
    "        fecha = row['Fecha']\n",
    "        mezclado_indices[int(id_trabajador_01)] = fecha"
   ]
  },
  {
   "cell_type": "code",
   "execution_count": 54,
   "metadata": {},
   "outputs": [
    {
     "data": {
      "text/plain": [
       "{11: [Timestamp('2023-07-21 00:00:00')],\n",
       " 23: [Timestamp('2023-07-21 00:00:00'), Timestamp('2023-07-21 00:00:00')],\n",
       " 42: [Timestamp('2023-07-21 00:00:00'), Timestamp('2023-07-25 00:00:00')]}"
      ]
     },
     "execution_count": 54,
     "metadata": {},
     "output_type": "execute_result"
    }
   ],
   "source": [
    "FILTERED_LAMINADO = LAMINADO[LAMINADO[\"Fecha\"].isin(\n",
    "    pd.date_range(last_thursday, today))]\n",
    "data = FILTERED_LAMINADO.merge(CATTRAB, on=[\"idTrabajador\"], how=\"right\")\n",
    "\n",
    "ayudantes = data[data['IdTrabajador02'].notna()]\n",
    "ayudantes = ayudantes[['IdTrabajador02', 'Fecha']].copy()\n",
    "ayudantes.columns = ['idTrabajador', 'Fecha_Ayudante']\n",
    "MERGED_LAMINADO = pd.merge(\n",
    "    data, ayudantes, how='left', left_on='idTrabajador', right_on='idTrabajador')\n",
    "MERGED_LAMINADO.loc[MERGED_LAMINADO['Fecha_Ayudante'].notna(\n",
    "), 'Fecha'] = MERGED_LAMINADO['Fecha_Ayudante']\n",
    "\n",
    "laminado_indices = {}\n",
    "\n",
    "for index, row in MERGED_LAMINADO.iterrows():\n",
    "    if pd.notna(row['Fecha']):\n",
    "        id_trabajador_01 = row[\"idTrabajador\"]\n",
    "        id_trabajador_02 = row['IdTrabajador02']\n",
    "        fecha = row['Fecha']\n",
    "        \n",
    "        if id_trabajador_01 in laminado_indices:\n",
    "            laminado_indices[int(id_trabajador_01)].append(fecha)\n",
    "        else:\n",
    "            laminado_indices[int(id_trabajador_01)] = [fecha]\n",
    "\n",
    "        if pd.notna(id_trabajador_02) and id_trabajador_02 in laminado_indices:\n",
    "            laminado_indices[int(id_trabajador_02)].append(fecha)\n",
    "        elif pd.notna(id_trabajador_02):\n",
    "            laminado_indices[int(id_trabajador_02)] = [fecha]"
   ]
  },
  {
   "cell_type": "code",
   "execution_count": 55,
   "metadata": {},
   "outputs": [
    {
     "data": {
      "text/plain": [
       "{16: [Timestamp('2023-07-20 00:00:00'),\n",
       "  Timestamp('2023-07-20 00:00:00'),\n",
       "  Timestamp('2023-07-20 00:00:00'),\n",
       "  Timestamp('2023-07-21 00:00:00'),\n",
       "  Timestamp('2023-07-21 00:00:00'),\n",
       "  Timestamp('2023-07-20 00:00:00'),\n",
       "  Timestamp('2023-07-20 00:00:00'),\n",
       "  Timestamp('2023-07-20 00:00:00'),\n",
       "  Timestamp('2023-07-21 00:00:00'),\n",
       "  Timestamp('2023-07-21 00:00:00')],\n",
       " 52: [Timestamp('2023-07-20 00:00:00'),\n",
       "  Timestamp('2023-07-20 00:00:00'),\n",
       "  Timestamp('2023-07-20 00:00:00'),\n",
       "  Timestamp('2023-07-21 00:00:00'),\n",
       "  Timestamp('2023-07-21 00:00:00')]}"
      ]
     },
     "execution_count": 55,
     "metadata": {},
     "output_type": "execute_result"
    }
   ],
   "source": [
    "FILTERED_VULCANIZADO = VULCANIZADO[VULCANIZADO[\"Fecha\"].isin(\n",
    "    pd.date_range(last_thursday, today))]\n",
    "data = FILTERED_VULCANIZADO.merge(\n",
    "    CATTRAB, on=[\"idTrabajador\"], how=\"right\")\n",
    "\n",
    "ayudantes = data[data['idTrabajador02'].notna()]\n",
    "ayudantes = ayudantes[['idTrabajador02', 'Fecha']].copy()\n",
    "ayudantes.columns = ['idTrabajador', 'Fecha_Ayudante']\n",
    "MERGED_VULCANIZADO = pd.merge(\n",
    "    data, ayudantes, how='left', left_on='idTrabajador', right_on='idTrabajador')\n",
    "MERGED_VULCANIZADO.loc[MERGED_VULCANIZADO['Fecha_Ayudante'].notna(\n",
    "), 'Fecha'] = MERGED_VULCANIZADO['Fecha_Ayudante']\n",
    "\n",
    "vulcanizado_indices = {}\n",
    "\n",
    "for index, row in MERGED_VULCANIZADO.iterrows():\n",
    "    if pd.notna(row['Fecha']):\n",
    "        id_trabajador_01 = row[\"idTrabajador\"]\n",
    "        id_trabajador_02 = row['idTrabajador02']\n",
    "        fecha = row['Fecha']\n",
    "\n",
    "        if id_trabajador_01 in vulcanizado_indices:\n",
    "            vulcanizado_indices[int(id_trabajador_01)].append(fecha)\n",
    "        else:\n",
    "            vulcanizado_indices[int(id_trabajador_01)] = [fecha]\n",
    "\n",
    "        if pd.notna(id_trabajador_02) and id_trabajador_02 in vulcanizado_indices:\n",
    "            vulcanizado_indices[int(id_trabajador_02)].append(fecha)\n",
    "        elif pd.notna(id_trabajador_02):\n",
    "            vulcanizado_indices[int(id_trabajador_02)] = [fecha]"
   ]
  },
  {
   "cell_type": "code",
   "execution_count": 56,
   "metadata": {},
   "outputs": [
    {
     "data": {
      "text/plain": [
       "{2: [Timestamp('2023-07-20 00:00:00'),\n",
       "  Timestamp('2023-07-20 00:00:00'),\n",
       "  Timestamp('2023-07-21 00:00:00'),\n",
       "  Timestamp('2023-07-21 00:00:00'),\n",
       "  Timestamp('2023-07-21 00:00:00'),\n",
       "  Timestamp('2023-07-21 00:00:00'),\n",
       "  Timestamp('2023-07-22 00:00:00'),\n",
       "  Timestamp('2023-07-22 00:00:00'),\n",
       "  Timestamp('2023-07-22 00:00:00'),\n",
       "  Timestamp('2023-07-24 00:00:00'),\n",
       "  Timestamp('2023-07-24 00:00:00'),\n",
       "  Timestamp('2023-07-24 00:00:00')],\n",
       " 14: [Timestamp('2023-07-20 00:00:00'),\n",
       "  Timestamp('2023-07-20 00:00:00'),\n",
       "  Timestamp('2023-07-21 00:00:00'),\n",
       "  Timestamp('2023-07-21 00:00:00'),\n",
       "  Timestamp('2023-07-21 00:00:00'),\n",
       "  Timestamp('2023-07-21 00:00:00'),\n",
       "  Timestamp('2023-07-22 00:00:00'),\n",
       "  Timestamp('2023-07-22 00:00:00'),\n",
       "  Timestamp('2023-07-22 00:00:00'),\n",
       "  Timestamp('2023-07-24 00:00:00'),\n",
       "  Timestamp('2023-07-24 00:00:00'),\n",
       "  Timestamp('2023-07-24 00:00:00'),\n",
       "  Timestamp('2023-07-20 00:00:00'),\n",
       "  Timestamp('2023-07-20 00:00:00'),\n",
       "  Timestamp('2023-07-21 00:00:00'),\n",
       "  Timestamp('2023-07-21 00:00:00'),\n",
       "  Timestamp('2023-07-21 00:00:00'),\n",
       "  Timestamp('2023-07-21 00:00:00'),\n",
       "  Timestamp('2023-07-22 00:00:00'),\n",
       "  Timestamp('2023-07-22 00:00:00'),\n",
       "  Timestamp('2023-07-22 00:00:00'),\n",
       "  Timestamp('2023-07-24 00:00:00'),\n",
       "  Timestamp('2023-07-24 00:00:00'),\n",
       "  Timestamp('2023-07-24 00:00:00')]}"
      ]
     },
     "execution_count": 56,
     "metadata": {},
     "output_type": "execute_result"
    }
   ],
   "source": [
    "FILTERED_CARDADO = CARDADO[CARDADO[\"Fecha\"].isin(\n",
    "    pd.date_range(last_thursday, today))]\n",
    "data = FILTERED_CARDADO.merge(CATTRAB, on=[\"idTrabajador\"], how=\"right\")\n",
    "\n",
    "ayudantes = data[data['idTrabajador02'].notna()]\n",
    "ayudantes = ayudantes[['idTrabajador02', 'Fecha']].copy()\n",
    "ayudantes.columns = ['idTrabajador', 'Fecha_Ayudante']\n",
    "MERGED_CARDADO = pd.merge(\n",
    "    data, ayudantes, how='left', left_on='idTrabajador', right_on='idTrabajador')\n",
    "MERGED_CARDADO.loc[MERGED_CARDADO['Fecha_Ayudante'].notna(\n",
    "), 'Fecha'] = MERGED_CARDADO['Fecha_Ayudante']\n",
    "\n",
    "cardado_indices = {}\n",
    "\n",
    "for index, row in MERGED_CARDADO.iterrows():\n",
    "    if pd.notna(row['Fecha']):\n",
    "        id_trabajador_01 = row[\"idTrabajador\"]\n",
    "        id_trabajador_02 = row['idTrabajador02']\n",
    "        fecha = row['Fecha']\n",
    "\n",
    "        if id_trabajador_01 in cardado_indices:\n",
    "            cardado_indices[int(id_trabajador_01)].append(fecha)\n",
    "        else:\n",
    "            cardado_indices[int(id_trabajador_01)] = [fecha]\n",
    "\n",
    "        if pd.notna(id_trabajador_02) and id_trabajador_02 in cardado_indices:\n",
    "            cardado_indices[int(id_trabajador_02)].append(fecha)\n",
    "        elif pd.notna(id_trabajador_02):\n",
    "            cardado_indices[int(id_trabajador_02)] = [fecha]"
   ]
  },
  {
   "cell_type": "code",
   "execution_count": 57,
   "metadata": {},
   "outputs": [
    {
     "data": {
      "text/plain": [
       "{16: {Timestamp('2023-07-20 00:00:00'), Timestamp('2023-07-21 00:00:00')},\n",
       " 52: {Timestamp('2023-07-20 00:00:00'), Timestamp('2023-07-21 00:00:00')},\n",
       " 11: {Timestamp('2023-07-21 00:00:00')},\n",
       " 23: {Timestamp('2023-07-21 00:00:00')},\n",
       " 42: {Timestamp('2023-07-21 00:00:00'), Timestamp('2023-07-25 00:00:00')},\n",
       " 2: {Timestamp('2023-07-20 00:00:00'),\n",
       "  Timestamp('2023-07-21 00:00:00'),\n",
       "  Timestamp('2023-07-22 00:00:00'),\n",
       "  Timestamp('2023-07-24 00:00:00')},\n",
       " 14: {Timestamp('2023-07-20 00:00:00'),\n",
       "  Timestamp('2023-07-21 00:00:00'),\n",
       "  Timestamp('2023-07-22 00:00:00'),\n",
       "  Timestamp('2023-07-24 00:00:00')}}"
      ]
     },
     "execution_count": 57,
     "metadata": {},
     "output_type": "execute_result"
    }
   ],
   "source": [
    "# Combine all dictionaries\n",
    "combined_dict = {}\n",
    "dictionaries = [vulcanizado_indices, laminado_indices,\n",
    "                mezclado_indices, formulado_indices, cardado_indices]\n",
    "\n",
    "# Merge dictionaries\n",
    "for dictionary in dictionaries:\n",
    "    for key, value in dictionary.items():\n",
    "        for date in set(value):\n",
    "            if key in combined_dict:\n",
    "                combined_dict[key].append(date)\n",
    "            else:\n",
    "                combined_dict[key] = [date]\n",
    "\n",
    "for key, value in combined_dict.items():\n",
    "    combined_dict[key] = set(value)\n",
    "\n",
    "combined_dict"
   ]
  }
 ],
 "metadata": {
  "kernelspec": {
   "display_name": ".venv",
   "language": "python",
   "name": "python3"
  },
  "language_info": {
   "codemirror_mode": {
    "name": "ipython",
    "version": 3
   },
   "file_extension": ".py",
   "mimetype": "text/x-python",
   "name": "python",
   "nbconvert_exporter": "python",
   "pygments_lexer": "ipython3",
   "version": "3.11.3"
  },
  "orig_nbformat": 4
 },
 "nbformat": 4,
 "nbformat_minor": 2
}
